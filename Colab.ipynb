{
  "nbformat": 4,
  "nbformat_minor": 0,
  "metadata": {
    "colab": {
      "provenance": [],
      "toc_visible": true,
      "include_colab_link": true
    },
    "kernelspec": {
      "name": "python3",
      "display_name": "Python 3"
    },
    "language_info": {
      "name": "python"
    },
    "accelerator": "GPU",
    "gpuClass": "standard"
  },
  "cells": [
    {
      "cell_type": "markdown",
      "metadata": {
        "id": "view-in-github",
        "colab_type": "text"
      },
      "source": [
        "<a href=\"https://colab.research.google.com/github/JonathanE42/BraTS2021/blob/master/Colab.ipynb\" target=\"_parent\"><img src=\"https://colab.research.google.com/assets/colab-badge.svg\" alt=\"Open In Colab\"/></a>"
      ]
    },
    {
      "cell_type": "markdown",
      "source": [
        "# Initialization"
      ],
      "metadata": {
        "id": "Q92wGIXXFF1G"
      }
    },
    {
      "cell_type": "code",
      "source": [
        "from google.colab import drive\n",
        "drive.mount('/content/drive')\n",
        "!git clone https://github.com/JonathanE42/BraTS2021.git\n",
        "%cd BraTS2021\n",
        "\n",
        "# Set paths to get training data from Google Drive\n",
        "!echo \"TRAIN-PATH=../drive/MyDrive/training-data/\" > .env\n",
        "\n",
        "# Install python dependencies\n",
        "!pip install python-dotenv\n",
        "!pip install wandb\n",
        "!wandb login"
      ],
      "metadata": {
        "id": "NiyPXhiJEXku"
      },
      "execution_count": null,
      "outputs": []
    },
    {
      "cell_type": "markdown",
      "source": [
        "# Execute newest from git main"
      ],
      "metadata": {
        "id": "AnLlila_FOkF"
      }
    },
    {
      "cell_type": "code",
      "source": [
        "!git pull\n",
        "!python python.py"
      ],
      "metadata": {
        "id": "y_MRCr2lFUjJ"
      },
      "execution_count": null,
      "outputs": []
    }
  ]
}