{
  "nbformat": 4,
  "nbformat_minor": 0,
  "metadata": {
    "colab": {
      "provenance": [],
      "authorship_tag": "ABX9TyO9jy1aTLluucWfd+/kZSE/",
      "include_colab_link": true
    },
    "kernelspec": {
      "name": "python3",
      "display_name": "Python 3"
    },
    "language_info": {
      "name": "python"
    }
  },
  "cells": [
    {
      "cell_type": "markdown",
      "metadata": {
        "id": "view-in-github",
        "colab_type": "text"
      },
      "source": [
        "<a href=\"https://colab.research.google.com/github/JonathanE42/BraTS2021/blob/master/Colab.ipynb\" target=\"_parent\"><img src=\"https://colab.research.google.com/assets/colab-badge.svg\" alt=\"Open In Colab\"/></a>"
      ]
    },
    {
      "cell_type": "code",
      "execution_count": 1,
      "metadata": {
        "id": "Anv8I5Quk1U9",
        "outputId": "202fde51-c96f-4050-9d26-af3fafbf506c",
        "colab": {
          "base_uri": "https://localhost:8080/"
        }
      },
      "outputs": [
        {
          "output_type": "stream",
          "name": "stdout",
          "text": [
            "Mounted at /content/drive\n",
            "Looking in indexes: https://pypi.org/simple, https://us-python.pkg.dev/colab-wheels/public/simple/\n",
            "Requirement already satisfied: kaggle in /usr/local/lib/python3.7/dist-packages (1.5.12)\n",
            "Requirement already satisfied: urllib3 in /usr/local/lib/python3.7/dist-packages (from kaggle) (1.24.3)\n",
            "Requirement already satisfied: six>=1.10 in /usr/local/lib/python3.7/dist-packages (from kaggle) (1.15.0)\n",
            "Requirement already satisfied: certifi in /usr/local/lib/python3.7/dist-packages (from kaggle) (2022.9.24)\n",
            "Requirement already satisfied: requests in /usr/local/lib/python3.7/dist-packages (from kaggle) (2.23.0)\n",
            "Requirement already satisfied: tqdm in /usr/local/lib/python3.7/dist-packages (from kaggle) (4.64.1)\n",
            "Requirement already satisfied: python-dateutil in /usr/local/lib/python3.7/dist-packages (from kaggle) (2.8.2)\n",
            "Requirement already satisfied: python-slugify in /usr/local/lib/python3.7/dist-packages (from kaggle) (6.1.2)\n",
            "Requirement already satisfied: text-unidecode>=1.3 in /usr/local/lib/python3.7/dist-packages (from python-slugify->kaggle) (1.3)\n",
            "Requirement already satisfied: chardet<4,>=3.0.2 in /usr/local/lib/python3.7/dist-packages (from requests->kaggle) (3.0.4)\n",
            "Requirement already satisfied: idna<3,>=2.5 in /usr/local/lib/python3.7/dist-packages (from requests->kaggle) (2.10)\n",
            "Downloading brats-2021-task1.zip to /content\n",
            "100% 12.3G/12.3G [03:27<00:00, 95.5MB/s]\n",
            "100% 12.3G/12.3G [03:27<00:00, 63.5MB/s]\n",
            "Archive:  brats-2021-task1.zip\n",
            "  inflating: BraTS2021_00495.tar     \n",
            "  inflating: BraTS2021_00621.tar     \n",
            "  inflating: BraTS2021_Training_Data.tar  \n",
            "Cloning into 'BraTS2021'...\n",
            "remote: Enumerating objects: 25, done.\u001b[K\n",
            "remote: Counting objects: 100% (25/25), done.\u001b[K\n",
            "remote: Compressing objects: 100% (18/18), done.\u001b[K\n",
            "remote: Total 25 (delta 8), reused 20 (delta 5), pack-reused 0\u001b[K\n",
            "Unpacking objects: 100% (25/25), done.\n",
            "/content/BraTS2021\n"
          ]
        }
      ],
      "source": [
        "#from google.colab import drive\n",
        "#drive.mount('/content/drive')\n",
        "#!pip install kaggle\n",
        "#!mkdir ~/.kaggle\n",
        "#!cp /content/drive/MyDrive/kaggle.json ~/.kaggle/kaggle.json\n",
        "#!chmod 600 ~/.kaggle/kaggle.json\n",
        "#!kaggle datasets download -d dschettler8845/brats-2021-task1\n",
        "#!unzip brats-2021-task1.zip\n",
        "#!tar -xf BraTS2021_Training_Data.tar --xform='s|^|training-data/|S'\n",
        "#!tar -xf BraTS2021_00621.tar --xform='s|^|val-data/|S'\n",
        "#!tar -xf BraTS2021_00495.tar --xform='s|^|val-data/|S'\n",
        "#!rm brats-2021-task1.zip\n",
        "#!rm BraTS2021_Training_Data.tar\n",
        "#!rm BraTS2021_00621.tar\n",
        "#!rm BraTS2021_00495.tar\n",
        "#!git clone https://github.com/JonathanE42/BraTS2021.git\n",
        "#%cd BraTS2021"
      ]
    },
    {
      "cell_type": "markdown",
      "source": [
        "# Initialization"
      ],
      "metadata": {
        "id": "Q92wGIXXFF1G"
      }
    },
    {
      "cell_type": "code",
      "source": [
        "from google.colab import drive\n",
        "drive.mount('/content/drive')\n",
        "!git clone https://github.com/JonathanE42/BraTS2021.git\n",
        "!mv ./val-data BraTS2021/\n",
        "!mv ./training-data BraTS2021/\n",
        "%cd BraTS2021"
      ],
      "metadata": {
        "id": "NiyPXhiJEXku"
      },
      "execution_count": null,
      "outputs": []
    },
    {
      "cell_type": "markdown",
      "source": [
        "# Execute newest from git main"
      ],
      "metadata": {
        "id": "AnLlila_FOkF"
      }
    },
    {
      "cell_type": "code",
      "source": [
        "!git pull\n",
        "!python python.py"
      ],
      "metadata": {
        "id": "y_MRCr2lFUjJ"
      },
      "execution_count": null,
      "outputs": []
    }
  ]
}